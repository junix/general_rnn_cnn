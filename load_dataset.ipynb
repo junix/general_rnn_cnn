{
 "cells": [
  {
   "cell_type": "code",
   "execution_count": 1,
   "metadata": {
    "init_cell": true
   },
   "outputs": [],
   "source": [
    "from dataset.dataset import *\n",
    "from itertools import *\n",
    "import pickle"
   ]
  },
  {
   "cell_type": "code",
   "execution_count": 4,
   "metadata": {},
   "outputs": [
    {
     "name": "stderr",
     "output_type": "stream",
     "text": [
      "Building prefix dict from the default dictionary ...\n",
      "Loading model from cache /var/folders/5p/zkjx21td4gg2tg04bhrxf_x00000gn/T/jieba.cache\n",
      "Loading model cost 0.798 seconds.\n",
      "Prefix dict has been built succesfully.\n"
     ]
    },
    {
     "name": "stdout",
     "output_type": "stream",
     "text": [
      "('云', '学堂', '企业', '大学', '<NIL>', '<NIL>', '<NIL>', '<NIL>', '<NIL>', '<NIL>', '<NIL>', '<NIL>', '<NIL>', '<NIL>', '<NIL>', '尊享', '销售', '<NIL>', '<NIL>', '<NIL>', '张明', '团队', '<NIL>', '<NIL>', '<NIL>') 25\n",
      "('云', '学堂', '企业', '大学', '<NIL>', '<NIL>', '<NIL>', '<NIL>', '<NIL>', '<NIL>', '<NIL>', '<NIL>', '<NIL>', '<NIL>', '<NIL>', 'IOS', '开发', '工程师', '<NIL>', '<NIL>', '机构', '网校', '业务', '线', '<NIL>') 25\n",
      "('云', '学堂', '企业', '大学', '<NIL>', '<NIL>', '<NIL>', '<NIL>', '<NIL>', '<NIL>', '<NIL>', '<NIL>', '<NIL>', '<NIL>', '<NIL>', '人力资源', '专员', '<NIL>', '<NIL>', '<NIL>', '人力资源部', '／', '深圳', '<NIL>', '<NIL>') 25\n",
      "('云', '学堂', '企业', '大学', '<NIL>', '<NIL>', '<NIL>', '<NIL>', '<NIL>', '<NIL>', '<NIL>', '<NIL>', '<NIL>', '<NIL>', '<NIL>', '乐享', '销售', '<NIL>', '<NIL>', '<NIL>', '北京', 'SDR', '<NIL>', '<NIL>', '<NIL>') 25\n",
      "('云', '学堂', '企业', '大学', '<NIL>', '<NIL>', '<NIL>', '<NIL>', '<NIL>', '<NIL>', '<NIL>', '<NIL>', '<NIL>', '<NIL>', '<NIL>', '内容', '产品', '经理', '<NIL>', '<NIL>', '<NIL>', '<NIL>', '<NIL>', '<NIL>', '<NIL>') 25\n",
      "('云', '学堂', '企业', '大学', '<NIL>', '<NIL>', '<NIL>', '<NIL>', '<NIL>', '<NIL>', '<NIL>', '<NIL>', '<NIL>', '<NIL>', '<NIL>', '乐享', '销售', '<NIL>', '<NIL>', '<NIL>', '成都', '大区', '<NIL>', '<NIL>', '<NIL>') 25\n",
      "('云', '学堂', '企业', '大学', '<NIL>', '<NIL>', '<NIL>', '<NIL>', '<NIL>', '<NIL>', '<NIL>', '<NIL>', '<NIL>', '<NIL>', '<NIL>', '乐享', '销售', '<NIL>', '<NIL>', '<NIL>', '陈晖', '团队', '<NIL>', '<NIL>', '<NIL>') 25\n",
      "('云', '学堂', '企业', '大学', '<NIL>', '<NIL>', '<NIL>', '<NIL>', '<NIL>', '<NIL>', '<NIL>', '<NIL>', '<NIL>', '<NIL>', '<NIL>', '项目', '助理', '<NIL>', '<NIL>', '<NIL>', '陈昊', '团队', '<NIL>', '<NIL>', '<NIL>') 25\n",
      "('云', '学堂', '企业', '大学', '<NIL>', '<NIL>', '<NIL>', '<NIL>', '<NIL>', '<NIL>', '<NIL>', '<NIL>', '<NIL>', '<NIL>', '<NIL>', '内容', '支持', '项目经理', '<NIL>', '<NIL>', '周辉', '团队', '<NIL>', '<NIL>', '<NIL>') 25\n",
      "('云', '学堂', '企业', '大学', '<NIL>', '<NIL>', '<NIL>', '<NIL>', '<NIL>', '<NIL>', '<NIL>', '<NIL>', '<NIL>', '<NIL>', '<NIL>', '内容', '运营', '专员', '<NIL>', '<NIL>', '华北', '大区', '<NIL>', '<NIL>', '<NIL>') 25\n"
     ]
    }
   ],
   "source": [
    "for e,_ in islice(load_raw_dataset(fixed_len=5), 0, 10):\n",
    "    print(e,len(e))"
   ]
  },
  {
   "cell_type": "code",
   "execution_count": 8,
   "metadata": {},
   "outputs": [
    {
     "data": {
      "text/plain": [
       "{'UI/UE/平面设计',\n",
       " '产品',\n",
       " '人力资源',\n",
       " '供应链/采购',\n",
       " '保险',\n",
       " '信息技术/IT',\n",
       " '公关',\n",
       " '制造',\n",
       " '客服/技术支持',\n",
       " '市场/策划/推广类',\n",
       " '技术',\n",
       " '物流仓储',\n",
       " '经营管理',\n",
       " '行政/后勤/文职类',\n",
       " '财务/审计/统计',\n",
       " '运维',\n",
       " '运营',\n",
       " '采购/供应链',\n",
       " '销售',\n",
       " '销售行政/商务'}"
      ]
     },
     "execution_count": 8,
     "metadata": {},
     "output_type": "execute_result"
    }
   ],
   "source": [
    "set(e for _, e in islice(load_raw_dataset(fixed_len=5), 0, 10000))"
   ]
  },
  {
   "cell_type": "code",
   "execution_count": 5,
   "metadata": {},
   "outputs": [],
   "source": [
    "from yxt_nlp_toolkit.common import Lang"
   ]
  },
  {
   "cell_type": "code",
   "execution_count": 6,
   "metadata": {},
   "outputs": [],
   "source": [
    "lang = Lang.load('lang.bin', binary=True)"
   ]
  },
  {
   "cell_type": "code",
   "execution_count": 7,
   "metadata": {},
   "outputs": [],
   "source": [
    "dataset = load_raw_dataset(fixed_len=5)"
   ]
  },
  {
   "cell_type": "code",
   "execution_count": 8,
   "metadata": {},
   "outputs": [],
   "source": [
    "dump_dataset(dataset, lang, \"test.dataset\")"
   ]
  },
  {
   "cell_type": "code",
   "execution_count": 9,
   "metadata": {},
   "outputs": [],
   "source": [
    "with open('test.dataset', 'rb') as f:\n",
    "    xs = pickle.load(f)"
   ]
  },
  {
   "cell_type": "code",
   "execution_count": 10,
   "metadata": {},
   "outputs": [
    {
     "data": {
      "text/plain": [
       "{'销售': 0,\n",
       " '技术': 1,\n",
       " '人力资源': 2,\n",
       " '产品': 3,\n",
       " '客服/技术支持': 4,\n",
       " '运营': 5,\n",
       " '经营管理': 6,\n",
       " '财务/审计/统计': 7,\n",
       " 'UI/UE/平面设计': 8,\n",
       " '运维': 9,\n",
       " '市场/策划/推广类': 10,\n",
       " '销售行政/商务': 11,\n",
       " '公关': 12,\n",
       " '信息技术/IT': 13,\n",
       " '行政/后勤/文职类': 14,\n",
       " '物流仓储': 15,\n",
       " '供应链/采购': 16,\n",
       " '采购/供应链': 17,\n",
       " '保险': 18,\n",
       " '制造': 19,\n",
       " '石油/石化/化工': 20,\n",
       " '医院医疗': 21,\n",
       " '咨询顾问': 22,\n",
       " '品控/质检': 23,\n",
       " '基金': 24,\n",
       " '工程/风险': 25,\n",
       " '研发/工艺': 26,\n",
       " '项目开发': 27,\n",
       " '影视/媒体': 28,\n",
       " '房地产服务': 29,\n",
       " '投资': 30,\n",
       " '教学教育': 31,\n",
       " '服务': 32,\n",
       " '服装/纺织/皮革': 33,\n",
       " '法务': 34,\n",
       " '注册': 35,\n",
       " '测试': 36,\n",
       " '渠道': 37,\n",
       " '环保': 38,\n",
       " '生产管理': 39,\n",
       " '生产营运': 40,\n",
       " '生产/运作/维修': 41,\n",
       " '医学研发/临床试验': 42,\n",
       " '设计/研发': 43,\n",
       " '维修': 44,\n",
       " '能源': 45,\n",
       " '质量管理': 46,\n",
       " '贸易/进出口': 47,\n",
       " '采购/贸易': 48,\n",
       " '酒店旅游服务': 49,\n",
       " '餐饮服务': 50,\n",
       " '信托/担保/拍卖/典当': 51,\n",
       " '其他': 52,\n",
       " '毕业生/实习生/应届生': 53,\n",
       " '招商管理': 54,\n",
       " '文化/艺术/出版': 55,\n",
       " '公务员/事业单位/科研': 56,\n",
       " '翻译': 57,\n",
       " '证券': 58,\n",
       " '规划/设计/装潢': 59,\n",
       " '建筑工程': 60,\n",
       " '医学管理': 61,\n",
       " '期货': 62,\n",
       " '交通/运输': 63,\n",
       " '广告/公关/市场推广/会展': 64,\n",
       " '楼层/店面管理': 65,\n",
       " '银行': 66}"
      ]
     },
     "execution_count": 10,
     "metadata": {},
     "output_type": "execute_result"
    }
   ],
   "source": [
    "xs[2]"
   ]
  },
  {
   "cell_type": "code",
   "execution_count": null,
   "metadata": {},
   "outputs": [],
   "source": []
  }
 ],
 "metadata": {
  "kernelspec": {
   "display_name": "Python 3",
   "language": "python",
   "name": "python3"
  },
  "language_info": {
   "codemirror_mode": {
    "name": "ipython",
    "version": 3
   },
   "file_extension": ".py",
   "mimetype": "text/x-python",
   "name": "python",
   "nbconvert_exporter": "python",
   "pygments_lexer": "ipython3",
   "version": "3.6.4"
  },
  "toc": {
   "nav_menu": {},
   "number_sections": true,
   "sideBar": true,
   "skip_h1_title": false,
   "title_cell": "Table of Contents",
   "title_sidebar": "Contents",
   "toc_cell": false,
   "toc_position": {},
   "toc_section_display": true,
   "toc_window_display": false
  }
 },
 "nbformat": 4,
 "nbformat_minor": 2
}
