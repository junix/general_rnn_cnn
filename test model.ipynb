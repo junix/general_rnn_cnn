{
 "cells": [
  {
   "cell_type": "markdown",
   "metadata": {},
   "source": [
    "# 训练模型"
   ]
  },
  {
   "cell_type": "code",
   "execution_count": 3,
   "metadata": {
    "init_cell": true
   },
   "outputs": [],
   "source": [
    "from net.train import *"
   ]
  },
  {
   "cell_type": "code",
   "execution_count": 4,
   "metadata": {},
   "outputs": [],
   "source": [
    "model_type = 'rnn'\n",
    "dataset_path = 'data/dataset.rnn'"
   ]
  },
  {
   "cell_type": "code",
   "execution_count": 5,
   "metadata": {},
   "outputs": [
    {
     "name": "stdout",
     "output_type": "stream",
     "text": [
      "2000 => 8383.278998851776\n",
      "4000 => 8313.241177797318\n"
     ]
    },
    {
     "ename": "KeyboardInterrupt",
     "evalue": "",
     "output_type": "error",
     "traceback": [
      "Traceback \u001b[0;36m(most recent call last)\u001b[0m:\n",
      "  File \u001b[1;32m\"<ipython-input-5-05e63d14938e>\"\u001b[0m, line \u001b[1;32m1\u001b[0m, in \u001b[1;35m<module>\u001b[0m\n    train(model_type=model_type,dataset_path=dataset_path)\n",
      "  File \u001b[1;32m\"/Users/junix/nlp/job_functions/net/train.py\"\u001b[0m, line \u001b[1;32m47\u001b[0m, in \u001b[1;35mtrain\u001b[0m\n    do_train(model, data_loader)\n",
      "  File \u001b[1;32m\"/Users/junix/nlp/job_functions/net/train.py\"\u001b[0m, line \u001b[1;32m61\u001b[0m, in \u001b[1;35mdo_train\u001b[0m\n    loss.backward()\n",
      "  File \u001b[1;32m\"/opt/anaconda3/lib/python3.6/site-packages/torch/tensor.py\"\u001b[0m, line \u001b[1;32m93\u001b[0m, in \u001b[1;35mbackward\u001b[0m\n    torch.autograd.backward(self, gradient, retain_graph, create_graph)\n",
      "\u001b[0;36m  File \u001b[0;32m\"/opt/anaconda3/lib/python3.6/site-packages/torch/autograd/__init__.py\"\u001b[0;36m, line \u001b[0;32m89\u001b[0;36m, in \u001b[0;35mbackward\u001b[0;36m\u001b[0m\n\u001b[0;31m    allow_unreachable=True)  # allow_unreachable flag\u001b[0m\n",
      "\u001b[0;31mKeyboardInterrupt\u001b[0m\n"
     ]
    }
   ],
   "source": [
    "train(model_type=model_type,dataset_path=dataset_path)"
   ]
  },
  {
   "cell_type": "code",
   "execution_count": null,
   "metadata": {},
   "outputs": [],
   "source": []
  },
  {
   "cell_type": "code",
   "execution_count": null,
   "metadata": {},
   "outputs": [],
   "source": []
  }
 ],
 "metadata": {
  "kernelspec": {
   "display_name": "Python 3",
   "language": "python",
   "name": "python3"
  },
  "language_info": {
   "codemirror_mode": {
    "name": "ipython",
    "version": 3
   },
   "file_extension": ".py",
   "mimetype": "text/x-python",
   "name": "python",
   "nbconvert_exporter": "python",
   "pygments_lexer": "ipython3",
   "version": "3.6.4"
  },
  "toc": {
   "nav_menu": {},
   "number_sections": true,
   "sideBar": true,
   "skip_h1_title": false,
   "title_cell": "Table of Contents",
   "title_sidebar": "Contents",
   "toc_cell": false,
   "toc_position": {},
   "toc_section_display": true,
   "toc_window_display": false
  }
 },
 "nbformat": 4,
 "nbformat_minor": 2
}
